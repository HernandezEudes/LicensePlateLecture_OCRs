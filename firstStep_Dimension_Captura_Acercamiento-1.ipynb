{
 "cells": [
  {
   "cell_type": "markdown",
   "metadata": {},
   "source": [
    "# 1. Dimensionando y capturando"
   ]
  },
  {
   "cell_type": "code",
   "execution_count": 2,
   "metadata": {},
   "outputs": [],
   "source": [
    "import cv2\n",
    "import os\n",
    "import random\n",
    "import string\n",
    "import matplotlib.pyplot as plt"
   ]
  },
  {
   "cell_type": "markdown",
   "metadata": {},
   "source": [
    "Configurar video file: Vid_file"
   ]
  },
  {
   "cell_type": "code",
   "execution_count": null,
   "metadata": {},
   "outputs": [],
   "source": [
    "vcap = cv2.VideoCapture('Vid_file')  # 0=camera\n",
    "\n",
    "if vcap.isOpened(): \n",
    "    # get vcap property \n",
    "    width  = vcap.get(cv2.CAP_PROP_FRAME_WIDTH)   # float `width`\n",
    "    height = vcap.get(cv2.CAP_PROP_FRAME_HEIGHT)  # float `height`\n",
    "    # or\n",
    "    width  = vcap.get(3)  # float `width`\n",
    "    height = vcap.get(4)  # float `height`\n",
    "\n",
    "    # it gives me 0.0 :/\n",
    "    fps = vcap.get(cv2.CAP_PROP_FPS)\n",
    "    \n",
    "    print(f\"Width: {width}, Height: {height}, FPS: {fps}\")\n",
    "else:\n",
    "    print(\"Error: No se pudo abrir el archivo de video.\")\n",
    "    "
   ]
  },
  {
   "cell_type": "markdown",
   "metadata": {},
   "source": [
    "## Creando columna de control recortando el video"
   ]
  },
  {
   "cell_type": "markdown",
   "metadata": {},
   "source": [
    "Configurar input_video_path y output_video_path\n",
    "asi como también el ROI"
   ]
  },
  {
   "cell_type": "code",
   "execution_count": null,
   "metadata": {},
   "outputs": [
    {
     "name": "stdout",
     "output_type": "stream",
     "text": [
      "Proceso de recorte completado. Nuevo video guardado en: Mask_1.mp4\n"
     ]
    }
   ],
   "source": [
    "\n",
    "# Ruta al video de origen\n",
    "input_video_path = 'input_video_path.mp4'\n",
    "# Ruta al nuevo video que se va a crear\n",
    "output_video_path = 'output_video_path.mp4'\n",
    "\n",
    "# Coordenadas de la región de interés (ROI)\n",
    "x, y, width, height = 200, 400, 600, 250  # (x, y) es la esquina superior izquierda y (width, height) es el tamaño de la ROI\n",
    "\n",
    "# Cargar el video de origen\n",
    "cap = cv2.VideoCapture(input_video_path)\n",
    "\n",
    "# Obtener la información del video original\n",
    "fps = cap.get(cv2.CAP_PROP_FPS)\n",
    "frame_width = int(cap.get(cv2.CAP_PROP_FRAME_WIDTH))\n",
    "frame_height = int(cap.get(cv2.CAP_PROP_FRAME_HEIGHT))\n",
    "total_frames = int(cap.get(cv2.CAP_PROP_FRAME_COUNT))\n",
    "\n",
    "# Definir el codec y crear el objeto VideoWriter\n",
    "fourcc = cv2.VideoWriter_fourcc(*'mp4v')  # Codec para formato mp4\n",
    "out = cv2.VideoWriter(output_video_path, fourcc, fps, (width, height))\n",
    "\n",
    "while cap.isOpened():\n",
    "    ret, frame = cap.read()\n",
    "    if not ret:\n",
    "        break\n",
    "    \n",
    "    # Recortar la región de interés\n",
    "    roi = frame[y:y+height, x:x+width]\n",
    "    \n",
    "    # Escribir el frame recortado en el nuevo video\n",
    "    out.write(roi)\n",
    "\n",
    "# Liberar los objetos VideoCapture y VideoWriter\n",
    "cap.release()\n",
    "out.release()\n",
    "\n",
    "print(\"Proceso de recorte completado. Nuevo video guardado en:\", output_video_path)\n"
   ]
  },
  {
   "cell_type": "markdown",
   "metadata": {},
   "source": [
    "## Definiendo zona de interes y simulando señal del LiDAR"
   ]
  },
  {
   "cell_type": "markdown",
   "metadata": {},
   "source": [
    "configurar ROI y color del rectangulo"
   ]
  },
  {
   "cell_type": "code",
   "execution_count": null,
   "metadata": {},
   "outputs": [],
   "source": [
    "def draw_roi(frame, roi, color):\n",
    "    # Get ROI coordinates\n",
    "    x, y, w, h = roi\n",
    "    # Draw rectangle on frame\n",
    "    if color == 'blue':\n",
    "        cv2.rectangle(frame, (x, y), (x + w, y + h), (255, 0, 0), 2)"
   ]
  },
  {
   "cell_type": "markdown",
   "metadata": {},
   "source": [
    "Configurar input_video_path"
   ]
  },
  {
   "cell_type": "code",
   "execution_count": null,
   "metadata": {},
   "outputs": [],
   "source": [
    "#Cambiando el tono\n",
    "cap=cv2.VideoCapture('input_video_path.mp4')\n",
    "current_char=-1\n",
    "previous_char=-1\n",
    "  \n",
    "capturas=[]\n",
    "while cap.isOpened():    \n",
    "    ret,frame=cap.read()\n",
    "    frame = cv2.resize(frame, None,fx=0.5,fy=0.5,interpolation=cv2.INTER_AREA)\n",
    "    c=cv2.waitKey(120)\n",
    "    if c== ord('q'): #simulacion de captura manual con teclado letra 'c'\n",
    "        break\n",
    "    if c==ord('c'):\n",
    "        capturas.append(frame)\n",
    "        print(f\"Cantidad de imagenes capturadas {len(capturas)}\")\n",
    "\n",
    "#Dibujando la region de interes\n",
    "    roi = [75, 225, 200, 75]  \n",
    "    draw_roi(frame, roi,'blue')\n",
    "\n",
    "    cv2.imshow('Webcam',frame)\n",
    "cap.release() \n",
    "# Closes all the frames \n",
    "cv2.destroyAllWindows()\n",
    "print(f\"Cantidad de imagenes capturadas {len(capturas)}\")"
   ]
  },
  {
   "cell_type": "markdown",
   "metadata": {},
   "source": [
    "## Mostrando las capturas y el acercamiento correspondiente"
   ]
  },
  {
   "cell_type": "markdown",
   "metadata": {},
   "source": [
    "### Función mostrandoImagenesCapturadas"
   ]
  },
  {
   "cell_type": "code",
   "execution_count": 1,
   "metadata": {},
   "outputs": [],
   "source": [
    "def onlyShowImag(img):\n",
    "    plt.imshow(img)\n",
    "    plt.axis('off')\n",
    "    plt.show()"
   ]
  },
  {
   "cell_type": "markdown",
   "metadata": {},
   "source": [
    "configurar rawDir"
   ]
  },
  {
   "cell_type": "code",
   "execution_count": null,
   "metadata": {},
   "outputs": [],
   "source": [
    "def mostrandoImagenesCapturadas(capturas):\n",
    "    rawDir=\"./rawDir\"\n",
    "    fig, axes = plt.subplots(1,len(capturas), figsize=(20,20))\n",
    "    axes_flat=axes.flatten()\n",
    "    count =0\n",
    "    for i in range(len(capturas)):\n",
    "        imagen_rgb = cv2.cvtColor(capturas[i],cv2.COLOR_BGR2RGB)\n",
    "        axes_flat[i].imshow(imagen_rgb)\n",
    "        axes_flat[i].set_title(f\"Captura {count}\")\n",
    "        axes_flat[i].axis(\"off\")\n",
    "        count+=1\n",
    "        output_path = os.path.join(rawDir, f'captura{i}.jpg')\n",
    "        cv2.imwrite(output_path, capturas[i])\n",
    "    onlyShowImag(imagen_rgb)"
   ]
  },
  {
   "cell_type": "code",
   "execution_count": null,
   "metadata": {},
   "outputs": [],
   "source": [
    "def zoomImag(img,dir,zoom_factor):\n",
    "    # Establecer una semilla aleatoria\n",
    "    seed_value = random.random()\n",
    "    random.seed(seed_value)\n",
    "\n",
    "    # Generar números aleatorios\n",
    "\n",
    "    rand_mark=random.randint(1, 1000)\n",
    "    x, y, w, h = 75, 225, 200, 75\n",
    "    roi = img[y:y+round(h), x:x+round(w)]\n",
    "  \n",
    "  #Nombrando cada imagen con nombres aleatorios y guardandolas en output_path\n",
    "    zoomed_roi_save = cv2.resize(roi, (w * zoom_factor, h * zoom_factor), interpolation=cv2.INTER_LINEAR)\n",
    "    zoomed_roi_show=  cv2.cvtColor(zoomed_roi_save,cv2.COLOR_BGR2RGB)\n",
    "    output_path = os.path.join(dir, f'captura{i}_{rand_mark}.jpg')\n",
    "\n",
    "    cv2.imwrite(output_path, zoomed_roi_save)\n",
    "    onlyShowImag(zoomed_roi_show)\n",
    "    return zoomed_roi_save"
   ]
  },
  {
   "cell_type": "code",
   "execution_count": null,
   "metadata": {},
   "outputs": [],
   "source": [
    "\n",
    "def split_image(img, subimages_dir, count, grid_size=(5, 3)):\n",
    "\n",
    "    # Crear la carpeta subimages si no existe\n",
    "    if not os.path.exists(subimages_dir):\n",
    "        os.makedirs(subimages_dir)\n",
    "\n",
    "    # Obtener dimensiones de la imagen\n",
    "    height, width, _ = img.shape\n",
    "    rows, cols = grid_size\n",
    "    \n",
    "    # Calcular tamaño de las subimágenes\n",
    "    sub_height = height // rows\n",
    "    sub_width = width // cols\n",
    "\n",
    "    # Dividir y guardar subimágenes\n",
    "    for r in range(rows):\n",
    "        for c in range(cols):\n",
    "            # Definir la región de interés (ROI)\n",
    "            y1 = r * sub_height\n",
    "            y2 = (r + 1) * sub_height\n",
    "            x1 = c * sub_width\n",
    "            x2 = (c + 1) * sub_width\n",
    "            roi = img[y1:y2, x1:x2]\n",
    "            \n",
    "\n",
    "            # Generar un nombre aleatorio para la subimagen\n",
    "            rand_name = 'cap_'+ str(count)+\"_\"+''.join(random.choices(string.digits, k=8)) + \".jpg\"\n",
    "            output_path = os.path.join(subimages_dir, rand_name)\n",
    "\n",
    "            # Guardar la subimagen\n",
    "            cv2.imwrite(output_path, roi)\n",
    "\n",
    "    print(f\"Subimágenes guardadas en la carpeta '{subimages_dir}'\")"
   ]
  },
  {
   "cell_type": "markdown",
   "metadata": {},
   "source": [
    "Configurar subimages_dir y output_dir"
   ]
  },
  {
   "cell_type": "code",
   "execution_count": null,
   "metadata": {},
   "outputs": [],
   "source": [
    "#Recordando que CV carga las imagenes en BGR y no RGB por eso hacemos la conversion\n",
    "\n",
    "output_dir = 'output_dir'\n",
    "os.makedirs(output_dir, exist_ok=True)\n",
    "subimages_dir = './subimages_dir'\n",
    "\n",
    "if len(capturas)>1:\n",
    "\n",
    "    mostrandoImagenesCapturadas(capturas)\n",
    "\n",
    "    for i in range(len(capturas)):\n",
    "\n",
    "        zoomed=zoomImag(capturas[i],output_dir,zoom_factor = 30)\n",
    "\n",
    "        split_image(zoomed, subimages_dir,i)\n",
    "else:\n",
    "\n",
    "    imagen_rgb = cv2.cvtColor(capturas[0],cv2.COLOR_BGR2RGB)\n",
    "\n",
    "    zoomed=zoomImag(capturas[0],output_dir,zoom_factor = 30)\n",
    "\n",
    "    count=0\n",
    "\n",
    "    split_image(zoomed, subimages_dir,count)\n",
    "\n",
    "onlyShowImag(imagen_rgb)"
   ]
  }
 ],
 "metadata": {
  "kernelspec": {
   "display_name": "Python 3",
   "language": "python",
   "name": "python3"
  },
  "language_info": {
   "codemirror_mode": {
    "name": "ipython",
    "version": 3
   },
   "file_extension": ".py",
   "mimetype": "text/x-python",
   "name": "python",
   "nbconvert_exporter": "python",
   "pygments_lexer": "ipython3",
   "version": "3.10.5"
  }
 },
 "nbformat": 4,
 "nbformat_minor": 2
}
