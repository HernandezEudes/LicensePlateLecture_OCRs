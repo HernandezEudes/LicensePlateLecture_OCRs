{
 "cells": [
  {
   "cell_type": "markdown",
   "metadata": {},
   "source": [
    "# 2. Tratamiento de imagenes"
   ]
  },
  {
   "cell_type": "code",
   "execution_count": null,
   "metadata": {},
   "outputs": [],
   "source": [
    "import cv2\n",
    "import numpy as np\n",
    "import pytesseract\n",
    "import matplotlib.pyplot as plt"
   ]
  },
  {
   "cell_type": "code",
   "execution_count": null,
   "metadata": {},
   "outputs": [],
   "source": [
    "def onlyShowImag(img):\n",
    "    plt.imshow(img)\n",
    "    plt.axis('off')\n",
    "    plt.show()"
   ]
  },
  {
   "cell_type": "markdown",
   "metadata": {},
   "source": [
    "configurar imgPath con la placa recortada.jpg"
   ]
  },
  {
   "cell_type": "code",
   "execution_count": null,
   "metadata": {},
   "outputs": [],
   "source": [
    "imgPath=\"recortada.jpg\""
   ]
  },
  {
   "cell_type": "markdown",
   "metadata": {},
   "source": [
    "## Escala de gris"
   ]
  },
  {
   "cell_type": "code",
   "execution_count": null,
   "metadata": {},
   "outputs": [],
   "source": [
    "#cargamos la imagen, y la convertimos a escala de grises\n",
    "imagen_cargada_cv=cv2.imread(imgPath)\n",
    "\n",
    "#Recordando que CV carga las imagenes en BGR y no RGB por eso hacemos la conversion\n",
    "imagen_rgb = cv2.cvtColor(imagen_cargada_cv,cv2.COLOR_BGR2RGB)\n",
    "\n",
    "imagen_gray = cv2.cvtColor(imagen_rgb,cv2.COLOR_RGB2GRAY)\n",
    "\n",
    "#verificamos si la imagen esta en escala de grises\n",
    "verificadorEscalaGris(imagen_gray)\n",
    "\n",
    "#colocamos cmap\n",
    "onlyShowImag(imagen_gray)"
   ]
  },
  {
   "cell_type": "markdown",
   "metadata": {},
   "source": [
    "## Shapening"
   ]
  },
  {
   "cell_type": "markdown",
   "metadata": {},
   "source": [
    "configurar la ruta de guardado de la imagen"
   ]
  },
  {
   "cell_type": "code",
   "execution_count": null,
   "metadata": {},
   "outputs": [],
   "source": [
    "kernel_sharp = np.array([[0, -1, 0], [-1, 5, -1], [0, -1, 0]])\n",
    "sharpened = cv2.filter2D(imagen_gray, -1, kernel_sharp)\n",
    "onlyShowImag(sharpened)\n",
    "\n",
    "cv2.imwrite(\"./processed/cap2.jpg\",sharpened)"
   ]
  },
  {
   "cell_type": "markdown",
   "metadata": {},
   "source": [
    "## Thresholding"
   ]
  },
  {
   "cell_type": "markdown",
   "metadata": {},
   "source": [
    "Aplicando diferentes tipos de Thresholding"
   ]
  },
  {
   "cell_type": "code",
   "execution_count": null,
   "metadata": {},
   "outputs": [],
   "source": [
    "methods=[cv2.THRESH_BINARY,cv2.THRESH_BINARY_INV,cv2.THRESH_TRUNC,cv2.THRESH_TOZERO,cv2.THRESH_TOZERO_INV, cv2.THRESH_BINARY | cv2.THRESH_OTSU,\n",
    "         cv2.THRESH_BINARY_INV | cv2.THRESH_OTSU]\n",
    "titles=[\"Binary\", \"Binary_inv\", \"Trunc\", \"To_ZERO\", \"To_ZERO_inv\",\"Binary plus otsu\",\"Binary_inv plus otsu\"]\n",
    "\n",
    "fig, axes = plt.subplots(3,3, figsize=(10,6))\n",
    "\n",
    "axes_flat=axes.flatten()\n",
    "\n",
    "for i in range(len(methods)):\n",
    "    ret, thresh = cv2.threshold(imagen_gray, 120, 255, methods[i]) \n",
    "    axes_flat[i].imshow(thresh, cmap='gray')\n",
    "    axes_flat[i].set_title(titles[i])\n",
    "    axes_flat[i].axis(\"off\")\n",
    "\n",
    "plt.tight_layout() \n",
    "# plt.axis(\"off\")\n",
    "plt.show()"
   ]
  }
 ],
 "metadata": {
  "language_info": {
   "name": "python"
  }
 },
 "nbformat": 4,
 "nbformat_minor": 2
}
